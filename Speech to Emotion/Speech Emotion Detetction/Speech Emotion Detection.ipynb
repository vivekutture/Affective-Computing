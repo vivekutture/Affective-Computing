{
 "cells": [
  {
   "cell_type": "code",
   "execution_count": null,
   "id": "9116fff6",
   "metadata": {},
   "outputs": [],
   "source": [
    "!pip install python_speech_features\n",
    "!pip install SpeechRecognition\n",
    "!pip install librosa\n",
    "!pip install noisereduce\n",
    "!pip install tensorflow\n",
    "!pip install PyAudio"
   ]
  },
  {
   "cell_type": "code",
   "execution_count": 1,
   "id": "b5a63a85",
   "metadata": {},
   "outputs": [
    {
     "name": "stderr",
     "output_type": "stream",
     "text": [
      "c:\\Users\\VIVEK\\AppData\\Local\\Programs\\Python\\Python310\\lib\\site-packages\\tqdm\\auto.py:21: TqdmWarning: IProgress not found. Please update jupyter and ipywidgets. See https://ipywidgets.readthedocs.io/en/stable/user_install.html\n",
      "  from .autonotebook import tqdm as notebook_tqdm\n",
      "C:\\Users\\VIVEK\\AppData\\Local\\Temp\\ipykernel_6140\\3889644724.py:17: DeprecationWarning: `magic(...)` is deprecated since IPython 0.13 (warning added in 8.1), use run_line_magic(magic_name, parameter_s).\n",
      "  get_ipython().magic('matplotlib inline')\n"
     ]
    }
   ],
   "source": [
    "#Install all the Reqiuired Libraries and Packages \n",
    "import os\n",
    "import glob\n",
    "from tqdm import tqdm\n",
    "import pandas as pd\n",
    "import numpy as np\n",
    "import matplotlib.pyplot as plt\n",
    "from scipy.io import wavfile\n",
    "from python_speech_features import mfcc , logfbank\n",
    "import librosa as lr\n",
    "import os, glob, pickle\n",
    "import librosa\n",
    "from scipy import signal\n",
    "import noisereduce as nr\n",
    "from glob import glob\n",
    "import librosa\n",
    "get_ipython().magic('matplotlib inline')\n",
    "#All the Required Packages and Libraies are installed.\n",
    "import soundfile\n",
    "from tensorflow.keras.layers import Conv2D,MaxPool2D, Flatten, LSTM\n",
    "from keras.layers import Dropout,Dense,TimeDistributed\n",
    "from keras.models import Sequential\n",
    "from keras.utils import to_categorical \n",
    "from sklearn.utils.class_weight import compute_class_weight\n",
    "from sklearn.model_selection import train_test_split\n",
    "from sklearn.neural_network import MLPClassifier\n",
    "from sklearn.metrics import accuracy_score"
   ]
  },
  {
   "cell_type": "code",
   "execution_count": 2,
   "id": "f19b4f5d",
   "metadata": {},
   "outputs": [
    {
     "data": {
      "text/plain": [
       "1440"
      ]
     },
     "execution_count": 2,
     "metadata": {},
     "output_type": "execute_result"
    }
   ],
   "source": [
    "#Loading the required RAVDESS DataSet with length of 1439 Audio Files \n",
    "os.listdir(path='./ravdess-data')\n",
    "def getListOfFiles(dirName):\n",
    "    listOfFile=os.listdir(dirName)\n",
    "    allFiles=list()\n",
    "    for entry in listOfFile:\n",
    "        fullPath=os.path.join(dirName, entry)\n",
    "        if os.path.isdir(fullPath):\n",
    "            allFiles=allFiles + getListOfFiles(fullPath)\n",
    "        else:\n",
    "            allFiles.append(fullPath)\n",
    "    return allFiles\n",
    "\n",
    "dirName = './ravdess-data'\n",
    "listOfFiles = getListOfFiles(dirName)\n",
    "len(listOfFiles)"
   ]
  },
  {
   "cell_type": "code",
   "execution_count": 3,
   "id": "f68314e4",
   "metadata": {},
   "outputs": [],
   "source": [
    "#Now Cleaning Step is Performed where:\n",
    "#DOWN SAMPLING OF AUDIO FILES IS DONE  AND PUT MASK OVER IT AND DIRECT INTO CLEAN FOLDER\n",
    "#MASK IS TO REMOVE UNNECESSARY EMPTY VOIVES AROUND THE MAIN AUDIO VOICE \n",
    "def envelope(y , rate, threshold):\n",
    "    mask=[]\n",
    "    y=pd.Series(y).apply(np.abs)\n",
    "    y_mean = y.rolling(window=int(rate/10) ,  min_periods=1 , center = True).mean()\n",
    "    for mean in y_mean:\n",
    "        if mean>threshold:\n",
    "            mask.append(True)\n",
    "        else:\n",
    "            mask.append(False)\n",
    "    return mask"
   ]
  },
  {
   "cell_type": "code",
   "execution_count": 4,
   "id": "200faaff",
   "metadata": {},
   "outputs": [
    {
     "name": "stderr",
     "output_type": "stream",
     "text": [
      "100%|██████████| 1440/1440 [01:43<00:00, 13.87it/s]\n"
     ]
    }
   ],
   "source": [
    "#The clean Audio Files are redirected to Clean Audio Folder Directory \n",
    "import glob,pickle\n",
    "if not os.path.isdir(\"clean-speech\"):\n",
    "    os.mkdir(\"clean-speech\")\n",
    "for file in tqdm(glob.glob(r'./ravdess-data//**//*.wav')):\n",
    "    file_name = os.path.basename(file)\n",
    "    signal , rate = librosa.load(file, sr=16000)\n",
    "    mask = envelope(signal,rate, 0.0005)\n",
    "    wavfile.write(filename= r'./clean-speech//'+str(file_name), rate=rate,data=signal[mask])"
   ]
  },
  {
   "cell_type": "code",
   "execution_count": 6,
   "id": "d54f8a8d",
   "metadata": {},
   "outputs": [],
   "source": [
    "#Feature Extraction of Audio Files Function \n",
    "#Extract features (mfcc, chroma, mel) from a sound file\n",
    "def extract_feature(file_name, mfcc, chroma, mel):\n",
    "    with soundfile.SoundFile(file_name) as sound_file:\n",
    "        X = sound_file.read(dtype=\"float32\")\n",
    "        sample_rate=sound_file.samplerate\n",
    "        if chroma:\n",
    "            stft=np.abs(librosa.stft(X))\n",
    "        result=np.array([])\n",
    "        if mfcc:\n",
    "            mfccs=np.mean(librosa.feature.mfcc(y=X, sr=sample_rate, n_mfcc=40).T, axis=0)\n",
    "        result=np.hstack((result, mfccs))\n",
    "        if chroma:\n",
    "            chroma=np.mean(librosa.feature.chroma_stft(S=stft, sr=sample_rate).T,axis=0)\n",
    "        result=np.hstack((result, chroma))\n",
    "        if mel:\n",
    "            mel=np.mean(librosa.feature.melspectrogram(y=X, sr=sample_rate).T,axis=0)\n",
    "        result=np.hstack((result, mel))\n",
    "    return result"
   ]
  },
  {
   "cell_type": "code",
   "execution_count": 31,
   "id": "7c55fcdc",
   "metadata": {},
   "outputs": [],
   "source": [
    "#Emotions in the RAVDESS dataset to be classified Audio Files based on . \n",
    "emotions={\n",
    "  '01':'neutral',\n",
    "  '02':'calm',\n",
    "  '03':'happy',\n",
    "  '04':'sad',\n",
    "  '05':'angry',\n",
    "  '06':'fearful',\n",
    "  '07':'disgust',\n",
    "  '08':'surprised'\n",
    "}\n",
    "#These are the emotions User wants to observe more :\n",
    "observed_emotions=['neutral', 'happy', 'sad','angry','fearful']"
   ]
  },
  {
   "cell_type": "code",
   "execution_count": 32,
   "id": "ddba0403",
   "metadata": {},
   "outputs": [],
   "source": [
    "#Load the data and extract features for each sound file\n",
    "from glob import glob\n",
    "import os\n",
    "import glob\n",
    "def load_data(test_size=0.33):\n",
    "    x,y=[],[]\n",
    "    answer = 0\n",
    "    for file in glob.glob(r'./clean-speech//*.wav'):\n",
    "        file_name=os.path.basename(file)\n",
    "        emotion=emotions[file_name.split(\"-\")[2]]\n",
    "        if emotion not in observed_emotions:\n",
    "            answer += 1\n",
    "            continue\n",
    "        feature=extract_feature(file, mfcc=True, chroma=True, mel=True)\n",
    "        x.append(feature)\n",
    "        y.append([emotion,file_name])\n",
    "    return train_test_split(np.array(x), y, test_size=test_size, random_state=9)"
   ]
  },
  {
   "cell_type": "code",
   "execution_count": 33,
   "id": "c021d9d5",
   "metadata": {},
   "outputs": [
    {
     "name": "stdout",
     "output_type": "stream",
     "text": [
      "(648, 180) (216, 180) (648, 2) (216, 2)\n",
      "(648,) (216,)\n",
      "03-01-05-01-01-01-15.wav\n",
      "03-01-03-01-01-01-21.wav\n",
      "03-01-03-02-02-01-18.wav\n",
      "03-01-06-02-02-01-10.wav\n",
      "03-01-06-02-01-02-22.wav\n",
      "03-01-06-01-02-01-15.wav\n",
      "03-01-05-02-01-02-12.wav\n",
      "03-01-01-01-02-02-01.wav\n",
      "03-01-04-01-01-01-02.wav\n",
      "03-01-05-01-02-02-03.wav\n",
      "03-01-05-01-01-01-09.wav\n",
      "03-01-04-01-01-02-05.wav\n",
      "03-01-05-01-02-02-16.wav\n",
      "03-01-04-01-01-02-12.wav\n",
      "03-01-05-02-02-01-04.wav\n",
      "03-01-06-01-02-01-12.wav\n",
      "03-01-03-02-01-01-20.wav\n",
      "03-01-04-02-01-01-11.wav\n",
      "03-01-05-01-01-02-24.wav\n",
      "03-01-01-01-02-01-08.wav\n",
      "03-01-01-01-01-02-17.wav\n",
      "03-01-04-02-02-02-07.wav\n",
      "03-01-06-01-02-02-06.wav\n",
      "03-01-01-01-01-02-16.wav\n",
      "03-01-05-02-02-02-24.wav\n",
      "03-01-05-01-02-01-19.wav\n",
      "03-01-04-02-02-02-04.wav\n",
      "03-01-04-02-02-02-16.wav\n",
      "03-01-05-02-01-01-04.wav\n",
      "03-01-06-01-01-02-13.wav\n",
      "03-01-03-01-02-01-05.wav\n",
      "03-01-04-01-01-02-19.wav\n",
      "03-01-06-01-01-02-20.wav\n",
      "03-01-04-01-02-01-06.wav\n",
      "03-01-03-02-02-02-04.wav\n",
      "03-01-03-01-01-02-01.wav\n",
      "03-01-05-01-01-01-24.wav\n",
      "03-01-01-01-02-01-13.wav\n",
      "03-01-01-01-01-02-21.wav\n",
      "03-01-06-01-02-01-11.wav\n",
      "03-01-04-01-01-02-10.wav\n",
      "03-01-03-01-01-01-03.wav\n",
      "03-01-03-01-01-01-02.wav\n",
      "03-01-06-01-01-01-24.wav\n",
      "03-01-05-01-02-02-23.wav\n",
      "03-01-05-02-02-02-16.wav\n",
      "03-01-03-02-02-01-15.wav\n",
      "03-01-04-01-01-01-01.wav\n",
      "03-01-03-01-02-02-03.wav\n",
      "03-01-01-01-02-01-18.wav\n",
      "03-01-01-01-01-02-07.wav\n",
      "03-01-01-01-02-02-06.wav\n",
      "03-01-05-02-01-01-08.wav\n",
      "03-01-06-02-02-02-21.wav\n",
      "03-01-04-01-02-02-24.wav\n",
      "03-01-06-02-01-02-16.wav\n",
      "03-01-01-01-02-01-21.wav\n",
      "03-01-04-01-01-01-12.wav\n",
      "03-01-06-02-01-02-09.wav\n",
      "03-01-05-01-02-02-17.wav\n",
      "03-01-03-01-02-01-21.wav\n",
      "03-01-05-02-02-02-11.wav\n",
      "03-01-03-01-02-01-16.wav\n",
      "03-01-06-02-02-02-08.wav\n",
      "03-01-01-01-01-01-17.wav\n",
      "03-01-03-01-02-01-09.wav\n",
      "03-01-04-02-01-02-02.wav\n",
      "03-01-03-01-01-02-09.wav\n",
      "03-01-06-01-01-01-06.wav\n",
      "03-01-04-02-01-01-10.wav\n",
      "03-01-05-01-01-02-16.wav\n",
      "03-01-05-01-02-01-08.wav\n",
      "03-01-05-01-02-01-11.wav\n",
      "03-01-03-01-01-02-13.wav\n",
      "03-01-04-01-02-02-14.wav\n",
      "03-01-05-01-01-01-01.wav\n",
      "03-01-06-01-01-02-08.wav\n",
      "03-01-04-02-01-02-24.wav\n",
      "03-01-06-01-02-01-19.wav\n",
      "03-01-03-02-02-02-16.wav\n",
      "03-01-06-02-02-01-17.wav\n",
      "03-01-05-02-02-02-10.wav\n",
      "03-01-06-02-02-01-11.wav\n",
      "03-01-04-02-01-02-04.wav\n",
      "03-01-05-02-01-02-09.wav\n",
      "03-01-03-02-01-01-03.wav\n",
      "03-01-05-02-02-01-23.wav\n",
      "03-01-01-01-01-02-22.wav\n",
      "03-01-05-02-01-01-20.wav\n",
      "03-01-01-01-01-02-24.wav\n",
      "03-01-06-01-01-01-05.wav\n",
      "03-01-04-02-02-02-19.wav\n",
      "03-01-03-01-01-02-24.wav\n",
      "03-01-06-01-01-01-13.wav\n",
      "03-01-03-02-02-02-20.wav\n",
      "03-01-04-02-01-02-14.wav\n",
      "03-01-04-02-01-01-23.wav\n",
      "03-01-05-02-01-01-09.wav\n",
      "03-01-06-02-02-02-01.wav\n",
      "03-01-04-02-01-01-19.wav\n",
      "03-01-06-02-02-01-18.wav\n",
      "03-01-05-02-02-01-21.wav\n",
      "03-01-05-02-01-01-01.wav\n",
      "03-01-05-01-01-02-14.wav\n",
      "03-01-06-01-02-01-09.wav\n",
      "03-01-06-02-02-01-14.wav\n",
      "03-01-03-02-01-01-22.wav\n",
      "03-01-06-02-02-02-12.wav\n",
      "03-01-06-01-02-01-04.wav\n",
      "03-01-04-02-01-01-01.wav\n",
      "03-01-03-02-01-01-02.wav\n",
      "03-01-06-01-01-01-07.wav\n",
      "03-01-06-01-02-02-02.wav\n",
      "03-01-05-02-02-02-04.wav\n",
      "03-01-05-01-01-01-10.wav\n",
      "03-01-05-02-01-02-22.wav\n",
      "03-01-06-01-02-01-10.wav\n",
      "03-01-05-01-01-01-16.wav\n",
      "03-01-04-02-02-01-14.wav\n",
      "03-01-04-01-02-02-04.wav\n",
      "03-01-01-01-01-01-03.wav\n",
      "03-01-05-02-01-02-19.wav\n",
      "03-01-04-01-01-01-17.wav\n",
      "03-01-06-02-02-02-16.wav\n",
      "03-01-04-01-02-02-09.wav\n",
      "03-01-05-01-02-02-18.wav\n",
      "03-01-04-02-02-01-19.wav\n",
      "03-01-04-01-02-02-11.wav\n",
      "03-01-01-01-01-02-02.wav\n",
      "03-01-05-02-02-02-18.wav\n",
      "03-01-05-02-01-01-11.wav\n",
      "03-01-01-01-01-01-05.wav\n",
      "03-01-01-01-01-02-18.wav\n",
      "03-01-04-02-02-01-08.wav\n",
      "03-01-03-01-01-01-11.wav\n",
      "03-01-06-01-02-01-23.wav\n",
      "03-01-04-01-02-01-11.wav\n",
      "03-01-01-01-01-01-04.wav\n",
      "03-01-06-01-01-02-07.wav\n",
      "03-01-06-02-02-01-06.wav\n",
      "03-01-01-01-02-02-19.wav\n",
      "03-01-05-02-01-01-14.wav\n",
      "03-01-04-02-01-02-07.wav\n",
      "03-01-03-02-02-02-08.wav\n",
      "03-01-05-02-01-02-14.wav\n",
      "03-01-03-02-01-01-09.wav\n",
      "03-01-01-01-01-02-14.wav\n",
      "03-01-01-01-02-02-16.wav\n",
      "03-01-05-01-02-02-07.wav\n",
      "03-01-04-01-02-01-24.wav\n",
      "03-01-06-01-01-02-15.wav\n",
      "03-01-03-01-01-02-12.wav\n",
      "03-01-06-01-01-02-17.wav\n",
      "03-01-03-01-01-01-04.wav\n",
      "03-01-01-01-02-01-07.wav\n",
      "03-01-06-02-01-01-07.wav\n",
      "03-01-04-02-02-01-10.wav\n",
      "03-01-03-01-01-02-22.wav\n",
      "03-01-04-02-02-01-20.wav\n",
      "03-01-06-01-01-02-19.wav\n",
      "03-01-06-01-01-01-03.wav\n",
      "03-01-06-02-01-01-08.wav\n",
      "03-01-01-01-01-01-15.wav\n",
      "03-01-06-02-01-01-19.wav\n",
      "03-01-06-02-02-02-20.wav\n",
      "03-01-01-01-02-02-09.wav\n",
      "03-01-05-01-02-01-02.wav\n",
      "03-01-05-01-01-02-22.wav\n",
      "03-01-06-02-01-01-13.wav\n",
      "03-01-04-01-02-01-10.wav\n",
      "03-01-05-02-01-02-01.wav\n",
      "03-01-05-02-02-01-11.wav\n",
      "03-01-01-01-02-01-15.wav\n",
      "03-01-05-02-01-01-05.wav\n",
      "03-01-03-01-02-01-03.wav\n",
      "03-01-05-02-01-02-18.wav\n",
      "03-01-01-01-02-02-18.wav\n",
      "03-01-03-01-02-02-22.wav\n",
      "03-01-05-02-02-02-13.wav\n",
      "03-01-03-02-02-01-07.wav\n",
      "03-01-05-01-01-01-08.wav\n",
      "03-01-03-02-01-02-13.wav\n",
      "03-01-03-01-01-01-05.wav\n",
      "03-01-05-01-01-02-15.wav\n",
      "03-01-03-02-02-02-17.wav\n",
      "03-01-03-01-02-02-14.wav\n",
      "03-01-01-01-01-02-04.wav\n",
      "03-01-04-01-01-02-23.wav\n",
      "03-01-06-02-01-01-10.wav\n",
      "03-01-05-01-01-01-19.wav\n",
      "03-01-03-01-01-01-08.wav\n",
      "03-01-01-01-02-02-20.wav\n",
      "03-01-01-01-01-01-11.wav\n",
      "03-01-06-02-02-02-04.wav\n",
      "03-01-05-01-01-02-17.wav\n",
      "03-01-05-01-01-01-14.wav\n",
      "03-01-01-01-01-01-12.wav\n",
      "03-01-05-02-01-01-07.wav\n",
      "03-01-03-02-01-01-01.wav\n",
      "03-01-05-02-02-01-16.wav\n",
      "03-01-03-01-02-02-09.wav\n",
      "03-01-05-02-01-02-17.wav\n",
      "03-01-06-02-01-01-24.wav\n",
      "03-01-05-01-01-02-11.wav\n",
      "03-01-01-01-02-01-23.wav\n",
      "03-01-06-02-01-02-05.wav\n",
      "03-01-03-01-02-02-07.wav\n",
      "03-01-04-01-02-02-06.wav\n",
      "03-01-05-01-01-02-06.wav\n",
      "03-01-06-02-01-02-03.wav\n",
      "03-01-05-02-02-02-07.wav\n",
      "03-01-03-02-02-01-16.wav\n",
      "03-01-03-02-02-01-10.wav\n",
      "03-01-01-01-01-01-18.wav\n",
      "03-01-06-01-02-02-05.wav\n",
      "03-01-06-01-01-02-24.wav\n"
     ]
    }
   ],
   "source": [
    "#Split the dataset\n",
    "import librosa\n",
    "import numpy as np\n",
    "x_train,x_test,y_trai,y_tes=load_data(test_size=0.25)\n",
    "print(np.shape(x_train),np.shape(x_test), np.shape(y_trai),np.shape(y_tes))\n",
    "y_test_map = np.array(y_tes).T\n",
    "y_test = y_test_map[0]\n",
    "test_filename = y_test_map[1]\n",
    "y_train_map = np.array(y_trai).T\n",
    "y_train = y_train_map[0]\n",
    "train_filename = y_train_map[1]\n",
    "print(np.shape(y_train),np.shape(y_test))\n",
    "print(*test_filename,sep=\"\\n\")"
   ]
  },
  {
   "cell_type": "code",
   "execution_count": 34,
   "id": "20afb4fd",
   "metadata": {},
   "outputs": [
    {
     "name": "stdout",
     "output_type": "stream",
     "text": [
      "(array([-4.31176636e+02,  1.05908226e+02,  5.72017145e+00,  9.64115334e+00,\n",
      "        2.96713591e+00, -7.07937002e+00, -1.50681391e+01, -1.51117468e+01,\n",
      "       -1.58431835e+01,  2.00595593e+00, -1.09016323e+01, -8.58012009e+00,\n",
      "       -8.60801220e+00, -1.14148796e+00, -8.48608494e+00, -5.04552364e+00,\n",
      "       -6.36811781e+00, -4.96801376e+00, -1.28830748e+01, -2.35865831e+00,\n",
      "       -7.00855207e+00, -4.75392628e+00, -5.77444935e+00, -3.20999074e+00,\n",
      "       -8.06006527e+00, -1.76361167e+00, -6.96075916e+00,  6.35976553e-01,\n",
      "       -6.47133398e+00,  1.49616122e+00, -6.23833656e+00, -4.55055046e+00,\n",
      "       -5.87176847e+00,  1.03602707e+00, -2.49548867e-01,  4.35088634e+00,\n",
      "        9.60683584e-01,  9.64547336e-01, -1.86402678e+00, -1.86221123e+00,\n",
      "        5.89923382e-01,  5.07126629e-01,  5.44490039e-01,  5.63900292e-01,\n",
      "        6.77752495e-01,  6.66871786e-01,  5.89944303e-01,  5.52502334e-01,\n",
      "        5.35442770e-01,  5.36585271e-01,  4.88924563e-01,  5.17956197e-01,\n",
      "        1.14368822e-03,  5.22878217e-05,  2.74674338e-03,  2.20486932e-02,\n",
      "        5.71594611e-02,  1.85342565e-01,  3.85231197e-01,  1.53813824e-01,\n",
      "        3.43038067e-02,  1.05007693e-01,  1.86093390e-01,  1.40750185e-01,\n",
      "        1.88975409e-02,  9.49658155e-02,  2.88416505e-01,  7.70272538e-02,\n",
      "        6.80008233e-02,  3.12472414e-02,  2.46384535e-02,  2.50926428e-02,\n",
      "        4.57588769e-02,  6.60275817e-02,  3.91214341e-02,  1.86255835e-02,\n",
      "        3.00754979e-02,  1.02839626e-01,  2.63113976e-02,  2.28927173e-02,\n",
      "        8.10436532e-02,  4.73763384e-02,  3.50279957e-02,  2.02309247e-02,\n",
      "        8.34249891e-03,  6.93579251e-03,  4.77130972e-02,  3.74558903e-02,\n",
      "        2.03452613e-02,  7.12363608e-03,  2.47919792e-03,  9.46745509e-04,\n",
      "        3.74590210e-03,  3.99188790e-03,  3.08948522e-03,  1.79986155e-03,\n",
      "        2.73337471e-03,  4.74801334e-03,  8.16792622e-03,  6.80811517e-03,\n",
      "        5.61937690e-03,  3.79025168e-03,  1.13237463e-02,  1.65109150e-02,\n",
      "        3.93882999e-03,  2.51693372e-03,  1.00278091e-02,  5.18989610e-03,\n",
      "        1.34010299e-03,  2.70952424e-03,  4.33165394e-03,  1.30573066e-03,\n",
      "        1.43726415e-03,  2.69842730e-03,  1.86875649e-03,  6.09069306e-04,\n",
      "        7.48961233e-04,  4.81622992e-04,  8.13267019e-04,  8.06865399e-04,\n",
      "        4.69098944e-04,  2.49756791e-04,  4.19436285e-04,  4.92047751e-04,\n",
      "        2.41708229e-04,  1.42089004e-04,  2.42081034e-04,  2.96275219e-04,\n",
      "        3.35050165e-04,  2.57256295e-04,  6.01353706e-04,  6.73597213e-04,\n",
      "        4.98925685e-04,  4.18288022e-04,  4.79747221e-04,  3.95508105e-04,\n",
      "        2.09989696e-04,  3.70955531e-04,  2.75075261e-04,  2.78184074e-04,\n",
      "        2.65362876e-04,  1.43532001e-04,  1.44650898e-04,  2.89359683e-04,\n",
      "        3.40183789e-04,  2.42861381e-04,  2.41777845e-04,  2.45896808e-04,\n",
      "        1.27524167e-04,  1.02297032e-04,  4.78306320e-05,  8.86856578e-05,\n",
      "        1.25033897e-04,  2.47477787e-04,  2.70409539e-04,  3.22539214e-04,\n",
      "        2.27629513e-04,  3.16732272e-04,  5.90338488e-04,  3.16591788e-04,\n",
      "        3.58202698e-04,  8.58292216e-04,  5.86242822e-04,  2.68959149e-04,\n",
      "        3.64047795e-04,  4.97931556e-04,  4.54251945e-04,  7.24612211e-04,\n",
      "        3.09835013e-04,  1.50767140e-04,  1.47949715e-04,  1.67762657e-04,\n",
      "        1.04601029e-04,  1.42063145e-04,  1.85890109e-04,  1.74950081e-04,\n",
      "        1.09612571e-04,  1.04381084e-04,  3.66919921e-05,  1.64450023e-06]), array([-3.32336517e+02,  9.24126511e+01, -2.46888943e+01,  2.55387707e+01,\n",
      "       -1.21857719e+01, -9.69575691e+00, -2.68495232e-01, -1.75047092e+01,\n",
      "       -9.06564808e+00, -3.02479601e+00, -5.64482212e+00, -4.58963108e+00,\n",
      "       -5.04588556e+00,  3.23374367e+00, -4.81294155e+00, -4.27589750e+00,\n",
      "       -5.07115841e+00, -2.00191832e+00, -8.33104324e+00,  3.17659020e-01,\n",
      "       -6.89092731e+00, -3.71323538e+00, -4.22721910e+00, -2.65253568e+00,\n",
      "       -4.18573952e+00,  7.80104816e-01, -3.96832824e+00,  2.15190101e+00,\n",
      "        4.48971605e+00,  6.41052628e+00,  1.28635514e+00,  3.11341381e+00,\n",
      "       -3.34576201e+00,  2.86206555e+00,  1.33376789e+00,  8.12796402e+00,\n",
      "        4.45095634e+00,  7.35753870e+00, -1.41522139e-01,  7.95484006e-01,\n",
      "        5.65401614e-01,  5.36601186e-01,  5.32414198e-01,  6.43508375e-01,\n",
      "        6.78599536e-01,  5.88580072e-01,  5.37934005e-01,  6.10153913e-01,\n",
      "        6.79666579e-01,  5.78090429e-01,  4.92162555e-01,  5.55300176e-01,\n",
      "        1.93346590e-01,  9.10312310e-03,  9.43342969e-03,  9.54231061e-03,\n",
      "        6.23491481e-02,  3.36610168e-01,  6.41648591e-01,  3.40310305e-01,\n",
      "        3.62601697e-01,  1.13986529e-01,  1.99743852e-01,  2.96966881e-01,\n",
      "        1.73094809e-01,  2.60606557e-01,  2.32966304e-01,  1.95061311e-01,\n",
      "        7.07707703e-01,  1.65743566e+00,  5.00085950e-01,  1.23508357e-01,\n",
      "        1.96467906e-01,  2.95636028e-01,  2.65527338e-01,  2.73833930e-01,\n",
      "        8.55765045e-02,  6.83857650e-02,  1.08592078e-01,  4.03526694e-01,\n",
      "        3.41877031e+00,  1.04711449e+00,  9.42367539e-02,  5.55928983e-02,\n",
      "        3.07692923e-02,  1.36393495e-02,  1.00971691e-01,  1.07176232e+00,\n",
      "        6.71078265e-01,  7.12416172e-02,  2.98489202e-02,  2.90778186e-02,\n",
      "        4.78751399e-02,  7.96335787e-02,  4.83421206e-01,  8.13723505e-01,\n",
      "        9.71270129e-02,  2.45742779e-02,  3.70061733e-02,  7.29310140e-02,\n",
      "        8.30254555e-02,  5.10746278e-02,  3.53907160e-02,  1.27523080e-01,\n",
      "        2.57876724e-01,  5.83430119e-02,  2.61791367e-02,  8.17691907e-02,\n",
      "        1.93755090e-01,  4.33771685e-02,  1.78668350e-02,  5.77762164e-02,\n",
      "        1.56649396e-01,  3.23373787e-02,  7.29524577e-03,  4.52928729e-02,\n",
      "        4.70637307e-02,  1.78084224e-02,  1.13480156e-02,  1.52462767e-02,\n",
      "        1.03988945e-02,  1.11713475e-02,  1.65232792e-02,  1.58539042e-02,\n",
      "        1.53026199e-02,  1.18331695e-02,  1.36482483e-02,  4.49316651e-02,\n",
      "        1.12803644e-02,  3.98759283e-02,  3.25351283e-02,  2.06024814e-02,\n",
      "        3.48878540e-02,  4.93147522e-02,  3.48159038e-02,  3.30346152e-02,\n",
      "        1.76360738e-02,  1.39181968e-02,  1.20563554e-02,  8.44036043e-03,\n",
      "        9.18571558e-03,  6.97783288e-03,  1.30223278e-02,  1.02721676e-02,\n",
      "        1.97740588e-02,  1.49655752e-02,  4.26301965e-03,  4.85325046e-03,\n",
      "        2.42547598e-03,  2.51079816e-03,  1.57057401e-03,  9.90443397e-04,\n",
      "        1.47792499e-03,  1.27224450e-03,  8.27776385e-04,  3.51105409e-04,\n",
      "        3.91086010e-04,  4.47349972e-04,  3.86811735e-04,  6.24737469e-04,\n",
      "        8.21499212e-04,  7.46135018e-04,  9.42014973e-04,  5.79237065e-04,\n",
      "        5.52599377e-04,  2.78469350e-04,  3.85795836e-04,  4.76925372e-04,\n",
      "        4.61626798e-04,  6.72124210e-04,  4.75984561e-04,  3.43049760e-04,\n",
      "        2.57997250e-04,  2.35756292e-04,  2.54332554e-04,  2.12828338e-04,\n",
      "        2.36225955e-04,  1.86625737e-04,  1.02931997e-04,  4.17752062e-06]))\n",
      "Features extracted: 180\n"
     ]
    }
   ],
   "source": [
    "#Get the shape of the training and testing datasets\n",
    "# print((x_train.shape[0], x_test.shape[0]))\n",
    "print((x_train[0], x_test[0]))\n",
    "#Get the number of features extracted\n",
    "print(f'Features extracted: {x_train.shape[1]}')"
   ]
  },
  {
   "cell_type": "code",
   "execution_count": 35,
   "id": "be4182cb",
   "metadata": {},
   "outputs": [],
   "source": [
    "\n",
    "# Initialize the Multi Layer Perceptron Classifier\n",
    "model=MLPClassifier(alpha=0.01, batch_size=256, epsilon=1e-08, hidden_layer_sizes=(300,), learning_rate='adaptive', max_iter=500)"
   ]
  },
  {
   "cell_type": "code",
   "execution_count": 36,
   "id": "4c69c844",
   "metadata": {},
   "outputs": [
    {
     "data": {
      "text/html": [
       "<style>#sk-container-id-3 {color: black;background-color: white;}#sk-container-id-3 pre{padding: 0;}#sk-container-id-3 div.sk-toggleable {background-color: white;}#sk-container-id-3 label.sk-toggleable__label {cursor: pointer;display: block;width: 100%;margin-bottom: 0;padding: 0.3em;box-sizing: border-box;text-align: center;}#sk-container-id-3 label.sk-toggleable__label-arrow:before {content: \"▸\";float: left;margin-right: 0.25em;color: #696969;}#sk-container-id-3 label.sk-toggleable__label-arrow:hover:before {color: black;}#sk-container-id-3 div.sk-estimator:hover label.sk-toggleable__label-arrow:before {color: black;}#sk-container-id-3 div.sk-toggleable__content {max-height: 0;max-width: 0;overflow: hidden;text-align: left;background-color: #f0f8ff;}#sk-container-id-3 div.sk-toggleable__content pre {margin: 0.2em;color: black;border-radius: 0.25em;background-color: #f0f8ff;}#sk-container-id-3 input.sk-toggleable__control:checked~div.sk-toggleable__content {max-height: 200px;max-width: 100%;overflow: auto;}#sk-container-id-3 input.sk-toggleable__control:checked~label.sk-toggleable__label-arrow:before {content: \"▾\";}#sk-container-id-3 div.sk-estimator input.sk-toggleable__control:checked~label.sk-toggleable__label {background-color: #d4ebff;}#sk-container-id-3 div.sk-label input.sk-toggleable__control:checked~label.sk-toggleable__label {background-color: #d4ebff;}#sk-container-id-3 input.sk-hidden--visually {border: 0;clip: rect(1px 1px 1px 1px);clip: rect(1px, 1px, 1px, 1px);height: 1px;margin: -1px;overflow: hidden;padding: 0;position: absolute;width: 1px;}#sk-container-id-3 div.sk-estimator {font-family: monospace;background-color: #f0f8ff;border: 1px dotted black;border-radius: 0.25em;box-sizing: border-box;margin-bottom: 0.5em;}#sk-container-id-3 div.sk-estimator:hover {background-color: #d4ebff;}#sk-container-id-3 div.sk-parallel-item::after {content: \"\";width: 100%;border-bottom: 1px solid gray;flex-grow: 1;}#sk-container-id-3 div.sk-label:hover label.sk-toggleable__label {background-color: #d4ebff;}#sk-container-id-3 div.sk-serial::before {content: \"\";position: absolute;border-left: 1px solid gray;box-sizing: border-box;top: 0;bottom: 0;left: 50%;z-index: 0;}#sk-container-id-3 div.sk-serial {display: flex;flex-direction: column;align-items: center;background-color: white;padding-right: 0.2em;padding-left: 0.2em;position: relative;}#sk-container-id-3 div.sk-item {position: relative;z-index: 1;}#sk-container-id-3 div.sk-parallel {display: flex;align-items: stretch;justify-content: center;background-color: white;position: relative;}#sk-container-id-3 div.sk-item::before, #sk-container-id-3 div.sk-parallel-item::before {content: \"\";position: absolute;border-left: 1px solid gray;box-sizing: border-box;top: 0;bottom: 0;left: 50%;z-index: -1;}#sk-container-id-3 div.sk-parallel-item {display: flex;flex-direction: column;z-index: 1;position: relative;background-color: white;}#sk-container-id-3 div.sk-parallel-item:first-child::after {align-self: flex-end;width: 50%;}#sk-container-id-3 div.sk-parallel-item:last-child::after {align-self: flex-start;width: 50%;}#sk-container-id-3 div.sk-parallel-item:only-child::after {width: 0;}#sk-container-id-3 div.sk-dashed-wrapped {border: 1px dashed gray;margin: 0 0.4em 0.5em 0.4em;box-sizing: border-box;padding-bottom: 0.4em;background-color: white;}#sk-container-id-3 div.sk-label label {font-family: monospace;font-weight: bold;display: inline-block;line-height: 1.2em;}#sk-container-id-3 div.sk-label-container {text-align: center;}#sk-container-id-3 div.sk-container {/* jupyter's `normalize.less` sets `[hidden] { display: none; }` but bootstrap.min.css set `[hidden] { display: none !important; }` so we also need the `!important` here to be able to override the default hidden behavior on the sphinx rendered scikit-learn.org. See: https://github.com/scikit-learn/scikit-learn/issues/21755 */display: inline-block !important;position: relative;}#sk-container-id-3 div.sk-text-repr-fallback {display: none;}</style><div id=\"sk-container-id-3\" class=\"sk-top-container\"><div class=\"sk-text-repr-fallback\"><pre>MLPClassifier(alpha=0.01, batch_size=256, hidden_layer_sizes=(300,),\n",
       "              learning_rate=&#x27;adaptive&#x27;, max_iter=500)</pre><b>In a Jupyter environment, please rerun this cell to show the HTML representation or trust the notebook. <br />On GitHub, the HTML representation is unable to render, please try loading this page with nbviewer.org.</b></div><div class=\"sk-container\" hidden><div class=\"sk-item\"><div class=\"sk-estimator sk-toggleable\"><input class=\"sk-toggleable__control sk-hidden--visually\" id=\"sk-estimator-id-3\" type=\"checkbox\" checked><label for=\"sk-estimator-id-3\" class=\"sk-toggleable__label sk-toggleable__label-arrow\">MLPClassifier</label><div class=\"sk-toggleable__content\"><pre>MLPClassifier(alpha=0.01, batch_size=256, hidden_layer_sizes=(300,),\n",
       "              learning_rate=&#x27;adaptive&#x27;, max_iter=500)</pre></div></div></div></div></div>"
      ],
      "text/plain": [
       "MLPClassifier(alpha=0.01, batch_size=256, hidden_layer_sizes=(300,),\n",
       "              learning_rate='adaptive', max_iter=500)"
      ]
     },
     "execution_count": 36,
     "metadata": {},
     "output_type": "execute_result"
    }
   ],
   "source": [
    "#Train the model\n",
    "model.fit(x_train,y_train)"
   ]
  },
  {
   "cell_type": "code",
   "execution_count": 48,
   "id": "8e5dbd7f",
   "metadata": {},
   "outputs": [],
   "source": [
    "\n",
    "#SAVING THE MODEL\n",
    "import pickle\n",
    "# Save the Modle to file in the current working directory\n",
    "#For any new testing data other than the data in dataset\n",
    "\n",
    "Pkl_Filename = \"Emotion_Voice_Detection_Model.model\"  \n",
    "\n",
    "with open(Pkl_Filename, 'wb') as file:  \n",
    "    pickle.dump(model, file)"
   ]
  },
  {
   "cell_type": "code",
   "execution_count": 50,
   "id": "1e17b21d",
   "metadata": {},
   "outputs": [
    {
     "data": {
      "text/html": [
       "<style>#sk-container-id-6 {color: black;background-color: white;}#sk-container-id-6 pre{padding: 0;}#sk-container-id-6 div.sk-toggleable {background-color: white;}#sk-container-id-6 label.sk-toggleable__label {cursor: pointer;display: block;width: 100%;margin-bottom: 0;padding: 0.3em;box-sizing: border-box;text-align: center;}#sk-container-id-6 label.sk-toggleable__label-arrow:before {content: \"▸\";float: left;margin-right: 0.25em;color: #696969;}#sk-container-id-6 label.sk-toggleable__label-arrow:hover:before {color: black;}#sk-container-id-6 div.sk-estimator:hover label.sk-toggleable__label-arrow:before {color: black;}#sk-container-id-6 div.sk-toggleable__content {max-height: 0;max-width: 0;overflow: hidden;text-align: left;background-color: #f0f8ff;}#sk-container-id-6 div.sk-toggleable__content pre {margin: 0.2em;color: black;border-radius: 0.25em;background-color: #f0f8ff;}#sk-container-id-6 input.sk-toggleable__control:checked~div.sk-toggleable__content {max-height: 200px;max-width: 100%;overflow: auto;}#sk-container-id-6 input.sk-toggleable__control:checked~label.sk-toggleable__label-arrow:before {content: \"▾\";}#sk-container-id-6 div.sk-estimator input.sk-toggleable__control:checked~label.sk-toggleable__label {background-color: #d4ebff;}#sk-container-id-6 div.sk-label input.sk-toggleable__control:checked~label.sk-toggleable__label {background-color: #d4ebff;}#sk-container-id-6 input.sk-hidden--visually {border: 0;clip: rect(1px 1px 1px 1px);clip: rect(1px, 1px, 1px, 1px);height: 1px;margin: -1px;overflow: hidden;padding: 0;position: absolute;width: 1px;}#sk-container-id-6 div.sk-estimator {font-family: monospace;background-color: #f0f8ff;border: 1px dotted black;border-radius: 0.25em;box-sizing: border-box;margin-bottom: 0.5em;}#sk-container-id-6 div.sk-estimator:hover {background-color: #d4ebff;}#sk-container-id-6 div.sk-parallel-item::after {content: \"\";width: 100%;border-bottom: 1px solid gray;flex-grow: 1;}#sk-container-id-6 div.sk-label:hover label.sk-toggleable__label {background-color: #d4ebff;}#sk-container-id-6 div.sk-serial::before {content: \"\";position: absolute;border-left: 1px solid gray;box-sizing: border-box;top: 0;bottom: 0;left: 50%;z-index: 0;}#sk-container-id-6 div.sk-serial {display: flex;flex-direction: column;align-items: center;background-color: white;padding-right: 0.2em;padding-left: 0.2em;position: relative;}#sk-container-id-6 div.sk-item {position: relative;z-index: 1;}#sk-container-id-6 div.sk-parallel {display: flex;align-items: stretch;justify-content: center;background-color: white;position: relative;}#sk-container-id-6 div.sk-item::before, #sk-container-id-6 div.sk-parallel-item::before {content: \"\";position: absolute;border-left: 1px solid gray;box-sizing: border-box;top: 0;bottom: 0;left: 50%;z-index: -1;}#sk-container-id-6 div.sk-parallel-item {display: flex;flex-direction: column;z-index: 1;position: relative;background-color: white;}#sk-container-id-6 div.sk-parallel-item:first-child::after {align-self: flex-end;width: 50%;}#sk-container-id-6 div.sk-parallel-item:last-child::after {align-self: flex-start;width: 50%;}#sk-container-id-6 div.sk-parallel-item:only-child::after {width: 0;}#sk-container-id-6 div.sk-dashed-wrapped {border: 1px dashed gray;margin: 0 0.4em 0.5em 0.4em;box-sizing: border-box;padding-bottom: 0.4em;background-color: white;}#sk-container-id-6 div.sk-label label {font-family: monospace;font-weight: bold;display: inline-block;line-height: 1.2em;}#sk-container-id-6 div.sk-label-container {text-align: center;}#sk-container-id-6 div.sk-container {/* jupyter's `normalize.less` sets `[hidden] { display: none; }` but bootstrap.min.css set `[hidden] { display: none !important; }` so we also need the `!important` here to be able to override the default hidden behavior on the sphinx rendered scikit-learn.org. See: https://github.com/scikit-learn/scikit-learn/issues/21755 */display: inline-block !important;position: relative;}#sk-container-id-6 div.sk-text-repr-fallback {display: none;}</style><div id=\"sk-container-id-6\" class=\"sk-top-container\"><div class=\"sk-text-repr-fallback\"><pre>MLPClassifier(alpha=0.01, batch_size=256, hidden_layer_sizes=(300,),\n",
       "              learning_rate=&#x27;adaptive&#x27;, max_iter=500)</pre><b>In a Jupyter environment, please rerun this cell to show the HTML representation or trust the notebook. <br />On GitHub, the HTML representation is unable to render, please try loading this page with nbviewer.org.</b></div><div class=\"sk-container\" hidden><div class=\"sk-item\"><div class=\"sk-estimator sk-toggleable\"><input class=\"sk-toggleable__control sk-hidden--visually\" id=\"sk-estimator-id-6\" type=\"checkbox\" checked><label for=\"sk-estimator-id-6\" class=\"sk-toggleable__label sk-toggleable__label-arrow\">MLPClassifier</label><div class=\"sk-toggleable__content\"><pre>MLPClassifier(alpha=0.01, batch_size=256, hidden_layer_sizes=(300,),\n",
       "              learning_rate=&#x27;adaptive&#x27;, max_iter=500)</pre></div></div></div></div></div>"
      ],
      "text/plain": [
       "MLPClassifier(alpha=0.01, batch_size=256, hidden_layer_sizes=(300,),\n",
       "              learning_rate='adaptive', max_iter=500)"
      ]
     },
     "execution_count": 50,
     "metadata": {},
     "output_type": "execute_result"
    }
   ],
   "source": [
    "# Load the Model back from file\n",
    "with open(Pkl_Filename, 'rb') as file:  \n",
    "    Emotion_Voice_Detection_Model = pickle.load(file)\n",
    "\n",
    "Emotion_Voice_Detection_Model"
   ]
  },
  {
   "cell_type": "code",
   "execution_count": 51,
   "id": "c51670e7",
   "metadata": {},
   "outputs": [
    {
     "data": {
      "text/plain": [
       "array(['happy', 'happy', 'fearful', 'fearful', 'fearful', 'happy',\n",
       "       'angry', 'sad', 'sad', 'fearful', 'fearful', 'fearful', 'angry',\n",
       "       'sad', 'angry', 'happy', 'happy', 'happy', 'happy', 'sad',\n",
       "       'neutral', 'sad', 'fearful', 'neutral', 'angry', 'fearful',\n",
       "       'fearful', 'fearful', 'fearful', 'fearful', 'sad', 'sad',\n",
       "       'fearful', 'sad', 'fearful', 'happy', 'angry', 'happy', 'neutral',\n",
       "       'fearful', 'sad', 'happy', 'happy', 'fearful', 'angry', 'angry',\n",
       "       'happy', 'fearful', 'happy', 'angry', 'fearful', 'happy', 'angry',\n",
       "       'fearful', 'sad', 'fearful', 'neutral', 'happy', 'fearful', 'sad',\n",
       "       'happy', 'angry', 'happy', 'fearful', 'neutral', 'sad', 'neutral',\n",
       "       'sad', 'fearful', 'happy', 'angry', 'angry', 'happy', 'happy',\n",
       "       'sad', 'angry', 'fearful', 'sad', 'fearful', 'angry', 'fearful',\n",
       "       'angry', 'fearful', 'sad', 'angry', 'happy', 'angry', 'happy',\n",
       "       'angry', 'sad', 'sad', 'sad', 'happy', 'happy', 'angry', 'sad',\n",
       "       'sad', 'angry', 'fearful', 'sad', 'fearful', 'fearful', 'angry',\n",
       "       'angry', 'sad', 'happy', 'happy', 'fearful', 'fearful', 'fearful',\n",
       "       'happy', 'sad', 'fearful', 'fearful', 'angry', 'angry', 'fearful',\n",
       "       'angry', 'fearful', 'sad', 'happy', 'angry', 'fearful', 'fearful',\n",
       "       'fearful', 'happy', 'sad', 'fearful', 'neutral', 'happy', 'angry',\n",
       "       'sad', 'happy', 'sad', 'happy', 'fearful', 'fearful', 'neutral',\n",
       "       'happy', 'angry', 'sad', 'angry', 'sad', 'happy', 'angry', 'happy',\n",
       "       'neutral', 'neutral', 'angry', 'sad', 'happy', 'happy', 'fearful',\n",
       "       'angry', 'fearful', 'happy', 'sad', 'happy', 'sad', 'sad',\n",
       "       'fearful', 'fearful', 'happy', 'fearful', 'angry', 'neutral',\n",
       "       'happy', 'sad', 'happy', 'sad', 'angry', 'angry', 'happy', 'angry',\n",
       "       'happy', 'angry', 'happy', 'happy', 'angry', 'happy', 'happy',\n",
       "       'happy', 'sad', 'angry', 'fearful', 'sad', 'neutral', 'sad',\n",
       "       'happy', 'angry', 'happy', 'fearful', 'neutral', 'fearful',\n",
       "       'neutral', 'neutral', 'sad', 'fearful', 'happy', 'angry', 'sad',\n",
       "       'angry', 'fearful', 'happy', 'happy', 'fearful', 'happy',\n",
       "       'neutral', 'sad', 'fearful', 'angry', 'happy', 'happy', 'happy',\n",
       "       'fearful', 'fearful'], dtype='<U7')"
      ]
     },
     "execution_count": 51,
     "metadata": {},
     "output_type": "execute_result"
    }
   ],
   "source": [
    "#predicting :\n",
    "y_pred=Emotion_Voice_Detection_Model.predict(x_test)\n",
    "y_pred"
   ]
  },
  {
   "cell_type": "code",
   "execution_count": 52,
   "id": "2888c6d0",
   "metadata": {},
   "outputs": [
    {
     "name": "stdout",
     "output_type": "stream",
     "text": [
      "    predictions                file_names\n",
      "0         happy  03-01-05-01-01-01-15.wav\n",
      "1         happy  03-01-03-01-01-01-21.wav\n",
      "2       fearful  03-01-03-02-02-01-18.wav\n",
      "3       fearful  03-01-06-02-02-01-10.wav\n",
      "4       fearful  03-01-06-02-01-02-22.wav\n",
      "..          ...                       ...\n",
      "211       happy  03-01-03-02-02-01-16.wav\n",
      "212       happy  03-01-03-02-02-01-10.wav\n",
      "213       happy  03-01-01-01-01-01-18.wav\n",
      "214     fearful  03-01-06-01-02-02-05.wav\n",
      "215     fearful  03-01-06-01-01-02-24.wav\n",
      "\n",
      "[216 rows x 2 columns]\n"
     ]
    }
   ],
   "source": [
    "#Store the Prediction probabilities into CSV file \n",
    "import numpy as np\n",
    "import pandas as pd\n",
    "y_pred1 = pd.DataFrame(y_pred, columns=['predictions'])\n",
    "y_pred1['file_names'] = test_filename\n",
    "print(y_pred1)\n",
    "y_pred1.to_csv('predictionfinal.csv')"
   ]
  },
  {
   "cell_type": "code",
   "execution_count": 53,
   "id": "8c0985d6",
   "metadata": {},
   "outputs": [
    {
     "name": "stdout",
     "output_type": "stream",
     "text": [
      "Voice Recording...\n",
      "Please talk\n",
      "Voice Recorded Successfully!\n"
     ]
    }
   ],
   "source": [
    "#RECORDED USING MICROPHONE:\n",
    "import speech_recognition as sr\n",
    "r = sr.Recognizer()\n",
    "with sr.Microphone() as source:\n",
    "  r.adjust_for_ambient_noise(source)\n",
    "  print(\"Voice Recording...\")\n",
    "  print(\"Please talk\")\n",
    "  audio=r.listen(source)\n",
    "  try:\n",
    "    with open('NewRecording.wav', \"wb\") as wav_file:\n",
    "      wav_file.write(audio.get_wav_data()) \n",
    "    print(\"Voice Recorded Successfully!\")\n",
    "  except Exception as e:\n",
    "    print(\"Error : Voice not Recorded!!! \")"
   ]
  },
  {
   "cell_type": "code",
   "execution_count": 54,
   "id": "f4322e4d",
   "metadata": {},
   "outputs": [
    {
     "data": {
      "text/plain": [
       "<librosa.display.AdaptiveWaveplot at 0x214645e5c30>"
      ]
     },
     "execution_count": 54,
     "metadata": {},
     "output_type": "execute_result"
    },
    {
     "data": {
      "image/png": "[encoded data removed]",
      "text/plain": [
       "<Figure size 1500x500 with 1 Axes>"
      ]
     },
     "metadata": {},
     "output_type": "display_data"
    }
   ],
   "source": [
    "#The file 'output10.wav' in the next cell is the file that was recorded live using the code :\n",
    "data, sampling_rate = librosa.load('NewRecording.wav')\n",
    "%matplotlib inline\n",
    "import os\n",
    "import pandas as pd\n",
    "import librosa.display\n",
    "import glob \n",
    "\n",
    "plt.figure(figsize=(15, 5))\n",
    "librosa.display.waveshow(data, sr=sampling_rate)"
   ]
  },
  {
   "cell_type": "code",
   "execution_count": 55,
   "id": "15aeeeb0",
   "metadata": {},
   "outputs": [
    {
     "name": "stdout",
     "output_type": "stream",
     "text": [
      "fearful\n",
      "1.3311118628104594e-09\n",
      "1.3311118628104595e-07\n"
     ]
    }
   ],
   "source": [
    "## Appying extract_feature function on random file and then loading model to predict the result \n",
    "file = 'NewRecording.wav'\n",
    "# data , sr = librosa.load(file)\n",
    "# data = np.array(data)\n",
    "#ans =[]\n",
    "new_feature = extract_feature(file, mfcc=True, chroma=True, mel=True).reshape(1,-1)\n",
    "#ans.append(new_feature)\n",
    "#ans = np.array(ans)\n",
    "ans=new_feature\n",
    "# data.shape\n",
    "emotion=Emotion_Voice_Detection_Model.predict(ans)[0]\n",
    "print(emotion)\n",
    "probabilities=Emotion_Voice_Detection_Model.predict_proba(ans)[0]\n",
    "indx=observed_emotions.index(emotion)\n",
    "proba=probabilities[indx]\n",
    "print(proba)\n",
    "per=proba*100\n",
    "print(per)\n",
    "\n"
   ]
  }
 ],
 "metadata": {
  "kernelspec": {
   "display_name": "Python 3 (ipykernel)",
   "language": "python",
   "name": "python3"
  },
  "language_info": {
   "codemirror_mode": {
    "name": "ipython",
    "version": 3
   },
   "file_extension": ".py",
   "mimetype": "text/x-python",
   "name": "python",
   "nbconvert_exporter": "python",
   "pygments_lexer": "ipython3",
   "version": "3.10.10"
  }
 },
 "nbformat": 4,
 "nbformat_minor": 5
}
